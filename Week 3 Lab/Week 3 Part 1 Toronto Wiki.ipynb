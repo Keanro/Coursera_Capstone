{
 "cells": [
  {
   "cell_type": "markdown",
   "metadata": {},
   "source": [
    "### Importing libraries"
   ]
  },
  {
   "cell_type": "code",
   "execution_count": null,
   "metadata": {},
   "outputs": [],
   "source": [
    "import pandas as pd\n",
    "import requests\n",
    "from bs4 import BeautifulSoup"
   ]
  },
  {
   "cell_type": "markdown",
   "metadata": {},
   "source": [
    "### Choosing the Wikipedia page with the table and then getting the base contents of it and saving it to the variable titled `CanadaWikiPage`"
   ]
  },
  {
   "cell_type": "code",
   "execution_count": null,
   "metadata": {},
   "outputs": [],
   "source": [
    "CanadaURL = 'https://en.wikipedia.org/wiki/List_of_postal_codes_of_Canada:_M'\n",
    "source = requests.get(CanadaURL).text\n",
    "\n",
    "#I needed to install lxml package for this to work, not entirely sure why\n",
    "CanadaWikiPage  = BeautifulSoup(source, 'lxml')"
   ]
  },
  {
   "cell_type": "code",
   "execution_count": null,
   "metadata": {},
   "outputs": [],
   "source": [
    "table = CanadaWikiPage.find('table', class_ = 'wikitable sortable') # Gets the table from the webpage\n",
    "tableRows = table.find_all('tr')"
   ]
  },
  {
   "cell_type": "code",
   "execution_count": null,
   "metadata": {},
   "outputs": [],
   "source": [
    "#td0 is Postcode\n",
    "#td1 is Borough\n",
    "#td2 is Neighborhood\n",
    "\n",
    "# Three columns of the table: PostalCode, Borough, and Neighborhood\n",
    "columns = ['Postalcode', 'Borough', 'Neighborhood']\n",
    "CanadaDF = pd.DataFrame(columns = columns)\n",
    "\n",
    "# Search all the postcode, borough, neighborhood \n",
    "for row in tableRows:\n",
    "    row_data=[]\n",
    "    for cell in row.find_all('td'):\n",
    "        row_data.append(cell.text.strip())\n",
    "    if len(row_data)==3: #there's one row that's blank so we ignore it like this\n",
    "        CanadaDF.loc[len(CanadaDF)] = row_data"
   ]
  },
  {
   "cell_type": "markdown",
   "metadata": {},
   "source": [
    "### Clean the dataframe"
   ]
  },
  {
   "cell_type": "code",
   "execution_count": null,
   "metadata": {},
   "outputs": [],
   "source": [
    "#remove rows where Borough is Not Assigned\n",
    "CanadaDF = CanadaDF[CanadaDF['Borough'] != 'Not assigned']\n",
    "\n",
    "#If a cell has a borough but a Not assigned neighborhood, then the neighborhood will be the same as the borough.\n",
    "CanadaDF.loc[CanadaDF[\n",
    "    'Neighborhood'] == 'Not assigned', 'Borough'] = CanadaDF['Neighborhood']"
   ]
  },
  {
   "cell_type": "markdown",
   "metadata": {},
   "source": [
    "### Final Result"
   ]
  },
  {
   "cell_type": "code",
   "execution_count": null,
   "metadata": {},
   "outputs": [],
   "source": [
    "CanadaDF.shape"
   ]
  },
  {
   "cell_type": "markdown",
   "metadata": {},
   "source": [
    "### Comments"
   ]
  },
  {
   "cell_type": "code",
   "execution_count": null,
   "metadata": {},
   "outputs": [],
   "source": [
    "# certain instructions are outdated so I didn't need to look at combining\n",
    "# the different rows into one"
   ]
  }
 ],
 "metadata": {
  "kernelspec": {
   "display_name": "Python 3",
   "language": "python",
   "name": "python3"
  },
  "language_info": {
   "codemirror_mode": {
    "name": "ipython",
    "version": 3
   },
   "file_extension": ".py",
   "mimetype": "text/x-python",
   "name": "python",
   "nbconvert_exporter": "python",
   "pygments_lexer": "ipython3",
   "version": "3.8.5"
  }
 },
 "nbformat": 4,
 "nbformat_minor": 4
}
