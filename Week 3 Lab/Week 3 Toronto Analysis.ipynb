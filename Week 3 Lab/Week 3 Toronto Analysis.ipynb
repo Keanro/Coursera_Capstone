{
 "cells": [
  {
   "cell_type": "markdown",
   "metadata": {},
   "source": [
    "### Importing libraries"
   ]
  },
  {
   "cell_type": "code",
   "execution_count": 24,
   "metadata": {},
   "outputs": [],
   "source": [
    "import pandas as pd\n",
    "import requests\n",
    "from bs4 import BeautifulSoup\n",
    "import folium"
   ]
  },
  {
   "cell_type": "markdown",
   "metadata": {},
   "source": [
    "### Choosing the Wikipedia page with the table and then getting the base contents of it and saving it to the variable titled `CanadaWikiPage`"
   ]
  },
  {
   "cell_type": "code",
   "execution_count": 9,
   "metadata": {},
   "outputs": [],
   "source": [
    "CanadaURL = 'https://en.wikipedia.org/wiki/List_of_postal_codes_of_Canada:_M'\n",
    "source = requests.get(CanadaURL).text\n",
    "\n",
    "#I needed to install lxml package for this to work, not entirely sure why\n",
    "CanadaWikiPage  = BeautifulSoup(source, 'lxml')"
   ]
  },
  {
   "cell_type": "code",
   "execution_count": 10,
   "metadata": {},
   "outputs": [],
   "source": [
    "table = CanadaWikiPage.find('table', class_ = 'wikitable sortable') # Gets the table from the webpage\n",
    "tableRows = table.find_all('tr')"
   ]
  },
  {
   "cell_type": "code",
   "execution_count": 11,
   "metadata": {},
   "outputs": [],
   "source": [
    "#td0 is Postcode\n",
    "#td1 is Borough\n",
    "#td2 is Neighborhood\n",
    "\n",
    "# Three columns of the table: PostalCode, Borough, and Neighborhood\n",
    "columns = ['Postalcode', 'Borough', 'Neighborhood']\n",
    "CanadaDF = pd.DataFrame(columns = columns)\n",
    "\n",
    "# Search all the postcode, borough, neighborhood \n",
    "for row in tableRows:\n",
    "    row_data=[]\n",
    "    for cell in row.find_all('td'):\n",
    "        row_data.append(cell.text.strip())\n",
    "    if len(row_data)==3: #there's one row that's blank so we ignore it like this\n",
    "        CanadaDF.loc[len(CanadaDF)] = row_data"
   ]
  },
  {
   "cell_type": "markdown",
   "metadata": {},
   "source": [
    "### Clean the dataframe"
   ]
  },
  {
   "cell_type": "code",
   "execution_count": 12,
   "metadata": {},
   "outputs": [],
   "source": [
    "#remove rows where Borough is Not Assigned\n",
    "CanadaDF = CanadaDF[CanadaDF['Borough'] != 'Not assigned']\n",
    "\n",
    "#If a cell has a borough but a Not assigned neighborhood, then the neighborhood will be the same as the borough.\n",
    "CanadaDF.loc[CanadaDF[\n",
    "    'Neighborhood'] == 'Not assigned', 'Borough'] = CanadaDF['Neighborhood']"
   ]
  },
  {
   "cell_type": "markdown",
   "metadata": {},
   "source": [
    "### Final Result for first criteria"
   ]
  },
  {
   "cell_type": "code",
   "execution_count": 13,
   "metadata": {},
   "outputs": [
    {
     "data": {
      "text/plain": [
       "(103, 3)"
      ]
     },
     "execution_count": 13,
     "metadata": {},
     "output_type": "execute_result"
    }
   ],
   "source": [
    "CanadaDF.shape"
   ]
  },
  {
   "cell_type": "markdown",
   "metadata": {},
   "source": [
    "### Adding the coordinates to the dataframe"
   ]
  },
  {
   "cell_type": "code",
   "execution_count": 19,
   "metadata": {},
   "outputs": [
    {
     "data": {
      "text/html": [
       "<div>\n",
       "<style scoped>\n",
       "    .dataframe tbody tr th:only-of-type {\n",
       "        vertical-align: middle;\n",
       "    }\n",
       "\n",
       "    .dataframe tbody tr th {\n",
       "        vertical-align: top;\n",
       "    }\n",
       "\n",
       "    .dataframe thead th {\n",
       "        text-align: right;\n",
       "    }\n",
       "</style>\n",
       "<table border=\"1\" class=\"dataframe\">\n",
       "  <thead>\n",
       "    <tr style=\"text-align: right;\">\n",
       "      <th></th>\n",
       "      <th>Postalcode</th>\n",
       "      <th>Borough</th>\n",
       "      <th>Neighborhood</th>\n",
       "      <th>Latitude</th>\n",
       "      <th>Longitude</th>\n",
       "    </tr>\n",
       "  </thead>\n",
       "  <tbody>\n",
       "    <tr>\n",
       "      <th>0</th>\n",
       "      <td>M3A</td>\n",
       "      <td>North York</td>\n",
       "      <td>Parkwoods</td>\n",
       "      <td>43.753259</td>\n",
       "      <td>-79.329656</td>\n",
       "    </tr>\n",
       "    <tr>\n",
       "      <th>1</th>\n",
       "      <td>M4A</td>\n",
       "      <td>North York</td>\n",
       "      <td>Victoria Village</td>\n",
       "      <td>43.725882</td>\n",
       "      <td>-79.315572</td>\n",
       "    </tr>\n",
       "    <tr>\n",
       "      <th>2</th>\n",
       "      <td>M5A</td>\n",
       "      <td>Downtown Toronto</td>\n",
       "      <td>Regent Park, Harbourfront</td>\n",
       "      <td>43.654260</td>\n",
       "      <td>-79.360636</td>\n",
       "    </tr>\n",
       "    <tr>\n",
       "      <th>3</th>\n",
       "      <td>M6A</td>\n",
       "      <td>North York</td>\n",
       "      <td>Lawrence Manor, Lawrence Heights</td>\n",
       "      <td>43.718518</td>\n",
       "      <td>-79.464763</td>\n",
       "    </tr>\n",
       "    <tr>\n",
       "      <th>4</th>\n",
       "      <td>M7A</td>\n",
       "      <td>Downtown Toronto</td>\n",
       "      <td>Queen's Park, Ontario Provincial Government</td>\n",
       "      <td>43.662301</td>\n",
       "      <td>-79.389494</td>\n",
       "    </tr>\n",
       "  </tbody>\n",
       "</table>\n",
       "</div>"
      ],
      "text/plain": [
       "  Postalcode           Borough                                 Neighborhood  \\\n",
       "0        M3A        North York                                    Parkwoods   \n",
       "1        M4A        North York                             Victoria Village   \n",
       "2        M5A  Downtown Toronto                    Regent Park, Harbourfront   \n",
       "3        M6A        North York             Lawrence Manor, Lawrence Heights   \n",
       "4        M7A  Downtown Toronto  Queen's Park, Ontario Provincial Government   \n",
       "\n",
       "    Latitude  Longitude  \n",
       "0  43.753259 -79.329656  \n",
       "1  43.725882 -79.315572  \n",
       "2  43.654260 -79.360636  \n",
       "3  43.718518 -79.464763  \n",
       "4  43.662301 -79.389494  "
      ]
     },
     "execution_count": 19,
     "metadata": {},
     "output_type": "execute_result"
    }
   ],
   "source": [
    "#reading the df from the website\n",
    "geoData = pd.read_csv('http://cocl.us/Geospatial_data')\n",
    "#rename column so we can merge more easily\n",
    "geoData.rename(columns={'Postal Code':'Postalcode'}, inplace=True)\n",
    "\n",
    "CanadaCoordinates = pd.merge(CanadaDF, geoData, on='Postalcode')\n",
    "\n",
    "CanadaCoordinates.head()"
   ]
  },
  {
   "cell_type": "markdown",
   "metadata": {},
   "source": [
    "### Clustering for Toronto to add to Folium Map"
   ]
  },
  {
   "cell_type": "code",
   "execution_count": 20,
   "metadata": {},
   "outputs": [
    {
     "data": {
      "text/html": [
       "<div>\n",
       "<style scoped>\n",
       "    .dataframe tbody tr th:only-of-type {\n",
       "        vertical-align: middle;\n",
       "    }\n",
       "\n",
       "    .dataframe tbody tr th {\n",
       "        vertical-align: top;\n",
       "    }\n",
       "\n",
       "    .dataframe thead th {\n",
       "        text-align: right;\n",
       "    }\n",
       "</style>\n",
       "<table border=\"1\" class=\"dataframe\">\n",
       "  <thead>\n",
       "    <tr style=\"text-align: right;\">\n",
       "      <th></th>\n",
       "      <th>Postalcode</th>\n",
       "      <th>Borough</th>\n",
       "      <th>Neighborhood</th>\n",
       "      <th>Latitude</th>\n",
       "      <th>Longitude</th>\n",
       "    </tr>\n",
       "  </thead>\n",
       "  <tbody>\n",
       "    <tr>\n",
       "      <th>0</th>\n",
       "      <td>M5A</td>\n",
       "      <td>Downtown Toronto</td>\n",
       "      <td>Regent Park, Harbourfront</td>\n",
       "      <td>43.654260</td>\n",
       "      <td>-79.360636</td>\n",
       "    </tr>\n",
       "    <tr>\n",
       "      <th>1</th>\n",
       "      <td>M7A</td>\n",
       "      <td>Downtown Toronto</td>\n",
       "      <td>Queen's Park, Ontario Provincial Government</td>\n",
       "      <td>43.662301</td>\n",
       "      <td>-79.389494</td>\n",
       "    </tr>\n",
       "    <tr>\n",
       "      <th>2</th>\n",
       "      <td>M5B</td>\n",
       "      <td>Downtown Toronto</td>\n",
       "      <td>Garden District, Ryerson</td>\n",
       "      <td>43.657162</td>\n",
       "      <td>-79.378937</td>\n",
       "    </tr>\n",
       "    <tr>\n",
       "      <th>3</th>\n",
       "      <td>M5C</td>\n",
       "      <td>Downtown Toronto</td>\n",
       "      <td>St. James Town</td>\n",
       "      <td>43.651494</td>\n",
       "      <td>-79.375418</td>\n",
       "    </tr>\n",
       "    <tr>\n",
       "      <th>4</th>\n",
       "      <td>M4E</td>\n",
       "      <td>East Toronto</td>\n",
       "      <td>The Beaches</td>\n",
       "      <td>43.676357</td>\n",
       "      <td>-79.293031</td>\n",
       "    </tr>\n",
       "  </tbody>\n",
       "</table>\n",
       "</div>"
      ],
      "text/plain": [
       "  Postalcode           Borough                                 Neighborhood  \\\n",
       "0        M5A  Downtown Toronto                    Regent Park, Harbourfront   \n",
       "1        M7A  Downtown Toronto  Queen's Park, Ontario Provincial Government   \n",
       "2        M5B  Downtown Toronto                     Garden District, Ryerson   \n",
       "3        M5C  Downtown Toronto                               St. James Town   \n",
       "4        M4E      East Toronto                                  The Beaches   \n",
       "\n",
       "    Latitude  Longitude  \n",
       "0  43.654260 -79.360636  \n",
       "1  43.662301 -79.389494  \n",
       "2  43.657162 -79.378937  \n",
       "3  43.651494 -79.375418  \n",
       "4  43.676357 -79.293031  "
      ]
     },
     "execution_count": 20,
     "metadata": {},
     "output_type": "execute_result"
    }
   ],
   "source": [
    "TorontoDF = CanadaCoordinates[CanadaCoordinates['Borough'].str.contains(\"Toronto\")]\n",
    "TorontoDF.reset_index(drop=True, inplace=True)\n",
    "\n",
    "TorontoDF.head()"
   ]
  },
  {
   "cell_type": "code",
   "execution_count": 34,
   "metadata": {},
   "outputs": [
    {
     "data": {
      "text/html": [
       "<div style=\"width:100%;\"><div style=\"position:relative;width:100%;height:0;padding-bottom:60%;\"><span style=\"color:#565656\">Make this Notebook Trusted to load map: File -> Trust Notebook</span><iframe src=\"about:blank\" style=\"position:absolute;width:100%;height:100%;left:0;top:0;border:none !important;\" data-html=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 onload=\"this.contentDocument.open();this.contentDocument.write(atob(this.getAttribute('data-html')));this.contentDocument.close();\" allowfullscreen webkitallowfullscreen mozallowfullscreen></iframe></div></div>"
      ],
      "text/plain": [
       "<folium.folium.Map at 0x1194e7c40>"
      ]
     },
     "execution_count": 34,
     "metadata": {},
     "output_type": "execute_result"
    }
   ],
   "source": [
    "# Create blank Toronto map\n",
    "TorontoMap = folium.Map(location=[43.65, -79.38], zoom_start=12) #Toronto coordinates found on Google\n",
    "\n",
    "# Adding markers to the map\n",
    "for lat, lng, borough, neighborhood in zip(\n",
    "    TorontoDF['Latitude'], TorontoDF['Longitude'], TorontoDF['Borough'], TorontoDF['Neighborhood']):\n",
    "    label = '{}, {}'.format(neighborhood, borough)\n",
    "    label = folium.Popup(label, parse_html=True)\n",
    "    folium.CircleMarker(\n",
    "        [lat, lng],\n",
    "        radius=7,\n",
    "        popup=label,\n",
    "        color='blue',\n",
    "        fill=True,\n",
    "        fill_color='#ADD8E6',\n",
    "        fill_opacity=0.7).add_to(TorontoMap)  \n",
    "    \n",
    "TorontoMap"
   ]
  },
  {
   "cell_type": "code",
   "execution_count": null,
   "metadata": {},
   "outputs": [],
   "source": []
  }
 ],
 "metadata": {
  "kernelspec": {
   "display_name": "Python 3",
   "language": "python",
   "name": "python3"
  },
  "language_info": {
   "codemirror_mode": {
    "name": "ipython",
    "version": 3
   },
   "file_extension": ".py",
   "mimetype": "text/x-python",
   "name": "python",
   "nbconvert_exporter": "python",
   "pygments_lexer": "ipython3",
   "version": "3.8.5"
  }
 },
 "nbformat": 4,
 "nbformat_minor": 4
}
